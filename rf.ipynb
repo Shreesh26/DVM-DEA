{
 "cells": [
  {
   "cell_type": "code",
   "execution_count": 1,
   "id": "d3f58a00",
   "metadata": {},
   "outputs": [],
   "source": [
    "import pandas as pd\n",
    "import numpy as np\n"
   ]
  },
  {
   "cell_type": "code",
   "execution_count": 2,
   "id": "f92e1689",
   "metadata": {},
   "outputs": [
    {
     "name": "stderr",
     "output_type": "stream",
     "text": [
      "WARNING: You are using pip version 21.2.4; however, version 22.0.4 is available.\n",
      "You should consider upgrading via the 'c:\\program files\\python39\\python.exe -m pip install --upgrade pip' command.\n"
     ]
    },
    {
     "name": "stdout",
     "output_type": "stream",
     "text": [
      "Defaulting to user installation because normal site-packages is not writeable\n",
      "Requirement already satisfied: plotly in c:\\users\\shree\\appdata\\roaming\\python\\python39\\site-packages (5.7.0)\n",
      "Requirement already satisfied: six in c:\\users\\shree\\appdata\\roaming\\python\\python39\\site-packages (from plotly) (1.16.0)\n",
      "Requirement already satisfied: tenacity>=6.2.0 in c:\\users\\shree\\appdata\\roaming\\python\\python39\\site-packages (from plotly) (8.0.1)\n"
     ]
    }
   ],
   "source": [
    "df = pd.read_csv(\"fuzzydata_1.csv\")\n",
    "x = df[['SF','Finantial resources (Rs)', 'Placement & Higher studies', 'Publications']]\n",
    "y = df[['1']]\n",
    "\n",
    "from sklearn.linear_model import LinearRegression # for building a linear regression model\n",
    "from sklearn.svm import SVR # for building support vector regression model\n",
    "from sklearn.preprocessing import StandardScaler\n",
    "sc_y = StandardScaler()\n",
    "\n",
    "!pip install plotly\n",
    "import plotly.graph_objects as go # for data visualization\n",
    "import plotly.express as px # for data visualization\n",
    "y = sc_y.fit_transform(y.values.reshape(-1,1))\n",
    "\n",
    "from sklearn.model_selection import train_test_split\n",
    "from sklearn.ensemble import RandomForestRegressor\n",
    "X_train, X_test, y_train, y_test = train_test_split(x, y, test_size = 0.30,random_state=123)\n",
    "regressor = RandomForestRegressor(n_estimators = 10, random_state = 0)\n",
    "\n",
    "regressor.fit(X_train, y_train.ravel())\n",
    "y_pred = regressor.predict(X_test)\n",
    "predicted = sc_y.inverse_transform(y_pred.reshape(-1,1))"
   ]
  },
  {
   "cell_type": "code",
   "execution_count": 3,
   "id": "c6f6185a",
   "metadata": {},
   "outputs": [],
   "source": [
    "y_test = sc_y.inverse_transform(y_test.reshape(-1,1))"
   ]
  },
  {
   "cell_type": "code",
   "execution_count": 4,
   "id": "b7f1b18a",
   "metadata": {},
   "outputs": [],
   "source": [
    "ans = pd.DataFrame(y_test, columns = ['1'])\n",
    "ans['Predicted']=predicted"
   ]
  },
  {
   "cell_type": "code",
   "execution_count": 5,
   "id": "f87816ce",
   "metadata": {},
   "outputs": [
    {
     "data": {
      "text/html": [
       "<div>\n",
       "<style scoped>\n",
       "    .dataframe tbody tr th:only-of-type {\n",
       "        vertical-align: middle;\n",
       "    }\n",
       "\n",
       "    .dataframe tbody tr th {\n",
       "        vertical-align: top;\n",
       "    }\n",
       "\n",
       "    .dataframe thead th {\n",
       "        text-align: right;\n",
       "    }\n",
       "</style>\n",
       "<table border=\"1\" class=\"dataframe\">\n",
       "  <thead>\n",
       "    <tr style=\"text-align: right;\">\n",
       "      <th></th>\n",
       "      <th>1</th>\n",
       "      <th>Predicted</th>\n",
       "    </tr>\n",
       "  </thead>\n",
       "  <tbody>\n",
       "    <tr>\n",
       "      <th>0</th>\n",
       "      <td>0.489826</td>\n",
       "      <td>0.481545</td>\n",
       "    </tr>\n",
       "    <tr>\n",
       "      <th>1</th>\n",
       "      <td>0.625545</td>\n",
       "      <td>0.703329</td>\n",
       "    </tr>\n",
       "    <tr>\n",
       "      <th>2</th>\n",
       "      <td>0.379585</td>\n",
       "      <td>0.668884</td>\n",
       "    </tr>\n",
       "    <tr>\n",
       "      <th>3</th>\n",
       "      <td>0.677869</td>\n",
       "      <td>0.704073</td>\n",
       "    </tr>\n",
       "    <tr>\n",
       "      <th>4</th>\n",
       "      <td>0.318865</td>\n",
       "      <td>0.579852</td>\n",
       "    </tr>\n",
       "    <tr>\n",
       "      <th>5</th>\n",
       "      <td>0.239634</td>\n",
       "      <td>0.354899</td>\n",
       "    </tr>\n",
       "    <tr>\n",
       "      <th>6</th>\n",
       "      <td>0.526830</td>\n",
       "      <td>0.710036</td>\n",
       "    </tr>\n",
       "    <tr>\n",
       "      <th>7</th>\n",
       "      <td>0.228273</td>\n",
       "      <td>0.404963</td>\n",
       "    </tr>\n",
       "    <tr>\n",
       "      <th>8</th>\n",
       "      <td>0.616406</td>\n",
       "      <td>0.684053</td>\n",
       "    </tr>\n",
       "    <tr>\n",
       "      <th>9</th>\n",
       "      <td>0.536738</td>\n",
       "      <td>0.759688</td>\n",
       "    </tr>\n",
       "    <tr>\n",
       "      <th>10</th>\n",
       "      <td>0.397877</td>\n",
       "      <td>0.695471</td>\n",
       "    </tr>\n",
       "    <tr>\n",
       "      <th>11</th>\n",
       "      <td>0.559548</td>\n",
       "      <td>0.510755</td>\n",
       "    </tr>\n",
       "    <tr>\n",
       "      <th>12</th>\n",
       "      <td>0.692101</td>\n",
       "      <td>0.735306</td>\n",
       "    </tr>\n",
       "    <tr>\n",
       "      <th>13</th>\n",
       "      <td>0.766573</td>\n",
       "      <td>0.649935</td>\n",
       "    </tr>\n",
       "    <tr>\n",
       "      <th>14</th>\n",
       "      <td>0.587138</td>\n",
       "      <td>0.772520</td>\n",
       "    </tr>\n",
       "    <tr>\n",
       "      <th>15</th>\n",
       "      <td>0.993670</td>\n",
       "      <td>0.592335</td>\n",
       "    </tr>\n",
       "    <tr>\n",
       "      <th>16</th>\n",
       "      <td>0.533236</td>\n",
       "      <td>0.638224</td>\n",
       "    </tr>\n",
       "    <tr>\n",
       "      <th>17</th>\n",
       "      <td>0.732606</td>\n",
       "      <td>0.687637</td>\n",
       "    </tr>\n",
       "  </tbody>\n",
       "</table>\n",
       "</div>"
      ],
      "text/plain": [
       "           1  Predicted\n",
       "0   0.489826   0.481545\n",
       "1   0.625545   0.703329\n",
       "2   0.379585   0.668884\n",
       "3   0.677869   0.704073\n",
       "4   0.318865   0.579852\n",
       "5   0.239634   0.354899\n",
       "6   0.526830   0.710036\n",
       "7   0.228273   0.404963\n",
       "8   0.616406   0.684053\n",
       "9   0.536738   0.759688\n",
       "10  0.397877   0.695471\n",
       "11  0.559548   0.510755\n",
       "12  0.692101   0.735306\n",
       "13  0.766573   0.649935\n",
       "14  0.587138   0.772520\n",
       "15  0.993670   0.592335\n",
       "16  0.533236   0.638224\n",
       "17  0.732606   0.687637"
      ]
     },
     "execution_count": 5,
     "metadata": {},
     "output_type": "execute_result"
    }
   ],
   "source": [
    "ans"
   ]
  },
  {
   "cell_type": "code",
   "execution_count": 6,
   "id": "bf2a38d2",
   "metadata": {},
   "outputs": [
    {
     "name": "stdout",
     "output_type": "stream",
     "text": [
      "[[1.         0.49187901]\n",
      " [0.49187901 1.        ]]\n",
      "0.24194495919627984\n"
     ]
    }
   ],
   "source": [
    "#R-squared value \n",
    "corr_matrix = np.corrcoef(ans['1'],ans['Predicted'])#CORRELATION MATRIX\n",
    "print (corr_matrix)\n",
    "corr = corr_matrix[0,1]\n",
    "R_sq0 = corr**2 # should be near to 1\n",
    "print(R_sq0)"
   ]
  },
  {
   "cell_type": "code",
   "execution_count": 7,
   "id": "6c134431",
   "metadata": {},
   "outputs": [],
   "source": [
    "def mape(actual, pred): #MAPE, should be less, should be less than 20\n",
    "    actual, pred = np.array(actual), np.array(pred)\n",
    "    return np.mean(np.abs((actual - pred) / actual)) * 100 #computing arithmrtic mean"
   ]
  },
  {
   "cell_type": "code",
   "execution_count": 8,
   "id": "446f99ff",
   "metadata": {},
   "outputs": [
    {
     "name": "stdout",
     "output_type": "stream",
     "text": [
      "1: 32.86721969622241\n"
     ]
    }
   ],
   "source": [
    "print(\"1:\",mape(ans['1'],ans['Predicted']))"
   ]
  },
  {
   "cell_type": "code",
   "execution_count": null,
   "id": "a47d64ed",
   "metadata": {},
   "outputs": [],
   "source": []
  }
 ],
 "metadata": {
  "kernelspec": {
   "display_name": "Python 3 (ipykernel)",
   "language": "python",
   "name": "python3"
  },
  "language_info": {
   "codemirror_mode": {
    "name": "ipython",
    "version": 3
   },
   "file_extension": ".py",
   "mimetype": "text/x-python",
   "name": "python",
   "nbconvert_exporter": "python",
   "pygments_lexer": "ipython3",
   "version": "3.9.6"
  }
 },
 "nbformat": 4,
 "nbformat_minor": 5
}
